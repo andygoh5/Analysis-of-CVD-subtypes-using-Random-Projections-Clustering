{
 "cells": [
  {
   "cell_type": "markdown",
   "metadata": {},
   "source": [
    "#### Oxidative Stress - Ion Channel Knowledge Graph (Network)\n",
    "Author: Irsyad Adam\n",
    "\n",
    "03/1/022"
   ]
  },
  {
   "cell_type": "code",
   "execution_count": null,
   "metadata": {},
   "outputs": [],
   "source": [
    "import json \n",
    "import pandas as pd\n",
    "from neo4j import GraphDatabase\n",
    "from tqdm import tqdm\n",
    "\n",
    "driver = GraphDatabase.driver(uri = \"bolt://localhost:7687\",\\\n",
    "                              auth = (\"neo4j\",\"heart\"))"
   ]
  },
  {
   "cell_type": "markdown",
   "metadata": {},
   "source": [
    "##### Create Constraints for Uniqueness (Run Only Once)"
   ]
  },
  {
   "cell_type": "code",
   "execution_count": null,
   "metadata": {},
   "outputs": [],
   "source": [
    "query = \"CREATE CONSTRAINT ON (p:Protein) ASSERT p.id  IS UNIQUE\"\n",
    "query1 = \"CREATE CONSTRAINT ON (pw:Pathway) ASSERT pw.id  IS UNIQUE\"\n",
    "query2 = \"CREATE CONSTRAINT ON (d:Document) ASSERT d.id  IS UNIQUE\"\n",
    "query3 = \"CREATE CONSTRAINT ON (m:MeSH) ASSERT m.id  IS UNIQUE\"\n",
    "query4 = \"CREATE CONSTRAINT ON (dg:Drug) ASSERT dg.id  IS UNIQUE\"\n",
    "        \n",
    "\n",
    "'''UNCOMMENT AND RUN THIS CELL ONLY ONCE'''\n",
    "\n",
    "with driver.session() as session:\n",
    "    info = session.run(query)\n",
    "    info = session.run(query1)\n",
    "    info = session.run(query2)\n",
    "    info = session.run(query3)\n",
    "    info = session.run(query4)"
   ]
  },
  {
   "cell_type": "markdown",
   "metadata": {},
   "source": [
    "##### Import Ion Channel Proteins"
   ]
  },
  {
   "cell_type": "code",
   "execution_count": 3,
   "metadata": {},
   "outputs": [
    {
     "data": {
      "text/html": [
       "<div>\n",
       "<style scoped>\n",
       "    .dataframe tbody tr th:only-of-type {\n",
       "        vertical-align: middle;\n",
       "    }\n",
       "\n",
       "    .dataframe tbody tr th {\n",
       "        vertical-align: top;\n",
       "    }\n",
       "\n",
       "    .dataframe thead th {\n",
       "        text-align: right;\n",
       "    }\n",
       "</style>\n",
       "<table border=\"1\" class=\"dataframe\">\n",
       "  <thead>\n",
       "    <tr style=\"text-align: right;\">\n",
       "      <th></th>\n",
       "      <th>name</th>\n",
       "      <th>id</th>\n",
       "    </tr>\n",
       "  </thead>\n",
       "  <tbody>\n",
       "    <tr>\n",
       "      <th>0</th>\n",
       "      <td>Amyloid beta A4 protein</td>\n",
       "      <td>P05067</td>\n",
       "    </tr>\n",
       "    <tr>\n",
       "      <th>1</th>\n",
       "      <td>Matrix metalloproteinase-9</td>\n",
       "      <td>P14780</td>\n",
       "    </tr>\n",
       "    <tr>\n",
       "      <th>2</th>\n",
       "      <td>Voltage-dependent P/Q-type calcium channel sub...</td>\n",
       "      <td>O00555</td>\n",
       "    </tr>\n",
       "    <tr>\n",
       "      <th>3</th>\n",
       "      <td>Extracellular calcium-sensing receptor</td>\n",
       "      <td>P41180</td>\n",
       "    </tr>\n",
       "    <tr>\n",
       "      <th>4</th>\n",
       "      <td>Nitric oxide synthase, brain</td>\n",
       "      <td>P29475</td>\n",
       "    </tr>\n",
       "    <tr>\n",
       "      <th>5</th>\n",
       "      <td>Dystrophin</td>\n",
       "      <td>P11532</td>\n",
       "    </tr>\n",
       "    <tr>\n",
       "      <th>6</th>\n",
       "      <td>Gap junction alpha-1 protein</td>\n",
       "      <td>P17302</td>\n",
       "    </tr>\n",
       "    <tr>\n",
       "      <th>7</th>\n",
       "      <td>Caveolin-1</td>\n",
       "      <td>Q03135</td>\n",
       "    </tr>\n",
       "    <tr>\n",
       "      <th>8</th>\n",
       "      <td>Dopamine D2 receptor</td>\n",
       "      <td>P14416</td>\n",
       "    </tr>\n",
       "    <tr>\n",
       "      <th>9</th>\n",
       "      <td>P2X purinoceptor 3</td>\n",
       "      <td>P56373</td>\n",
       "    </tr>\n",
       "  </tbody>\n",
       "</table>\n",
       "</div>"
      ],
      "text/plain": [
       "                                                name      id\n",
       "0                            Amyloid beta A4 protein  P05067\n",
       "1                         Matrix metalloproteinase-9  P14780\n",
       "2  Voltage-dependent P/Q-type calcium channel sub...  O00555\n",
       "3             Extracellular calcium-sensing receptor  P41180\n",
       "4                       Nitric oxide synthase, brain  P29475\n",
       "5                                         Dystrophin  P11532\n",
       "6                       Gap junction alpha-1 protein  P17302\n",
       "7                                         Caveolin-1  Q03135\n",
       "8                               Dopamine D2 receptor  P14416\n",
       "9                                 P2X purinoceptor 3  P56373"
      ]
     },
     "execution_count": 3,
     "metadata": {},
     "output_type": "execute_result"
    }
   ],
   "source": [
    "proteins = pd.read_csv(\"data/importantProteins.csv\")\n",
    "proteins[0:10]"
   ]
  },
  {
   "cell_type": "code",
   "execution_count": 4,
   "metadata": {},
   "outputs": [],
   "source": [
    "def create_protein_nodes(tx, uid, name, type):\n",
    "    \"\"\"\n",
    "    :param uid: is the protein id in uniprot\n",
    "    :param name: is the name of the protein in uniprot\n",
    "    \"\"\"\n",
    "    query = \"MERGE (p:Protein{id: $uid, name: $name, type: $type})\"\n",
    "    tx.run(query, uid = uid, name = name, type = type)"
   ]
  },
  {
   "cell_type": "code",
   "execution_count": 5,
   "metadata": {},
   "outputs": [
    {
     "name": "stdout",
     "output_type": "stream",
     "text": [
      "Length of Data:  133 iterations\n"
     ]
    },
    {
     "name": "stderr",
     "output_type": "stream",
     "text": [
      "Importing Ion Channel Proteins: 133it [00:00, 258.98it/s]"
     ]
    },
    {
     "name": "stdout",
     "output_type": "stream",
     "text": [
      "Success\n"
     ]
    },
    {
     "name": "stderr",
     "output_type": "stream",
     "text": [
      "\n"
     ]
    }
   ],
   "source": [
    "print(\"Length of Data: \", len(proteins), \"iterations\", flush = True)\n",
    "type = \"Ion Channel\"\n",
    "with driver.session() as session:\n",
    "    for uid, name in tqdm(zip(proteins[\"id\"], proteins['name']), desc=\"Importing Ion Channel Proteins\"):\n",
    "        session.write_transaction(create_protein_nodes, uid, name, type)\n",
    "\n",
    "print(\"Success\")"
   ]
  },
  {
   "cell_type": "markdown",
   "metadata": {},
   "source": [
    "##### Importing PMIDs (PubMed Docs)"
   ]
  },
  {
   "cell_type": "code",
   "execution_count": 12,
   "metadata": {},
   "outputs": [
    {
     "data": {
      "text/html": [
       "<div>\n",
       "<style scoped>\n",
       "    .dataframe tbody tr th:only-of-type {\n",
       "        vertical-align: middle;\n",
       "    }\n",
       "\n",
       "    .dataframe tbody tr th {\n",
       "        vertical-align: top;\n",
       "    }\n",
       "\n",
       "    .dataframe thead th {\n",
       "        text-align: right;\n",
       "    }\n",
       "</style>\n",
       "<table border=\"1\" class=\"dataframe\">\n",
       "  <thead>\n",
       "    <tr style=\"text-align: right;\">\n",
       "      <th></th>\n",
       "      <th>Unnamed: 0</th>\n",
       "      <th>pmid</th>\n",
       "      <th>title</th>\n",
       "      <th>abstract</th>\n",
       "      <th>mesh</th>\n",
       "      <th>date</th>\n",
       "    </tr>\n",
       "  </thead>\n",
       "  <tbody>\n",
       "    <tr>\n",
       "      <th>0</th>\n",
       "      <td>0</td>\n",
       "      <td>20091048</td>\n",
       "      <td>Cardiac sodium channelopathies.</td>\n",
       "      <td>cardiac sodium channel are protein complexes t...</td>\n",
       "      <td>['Animals', 'Arrhythmias, Cardiac', 'genetics'...</td>\n",
       "      <td>{'Year': '2010', 'Month': 'Jul', 'Day': '', 'S...</td>\n",
       "    </tr>\n",
       "    <tr>\n",
       "      <th>1</th>\n",
       "      <td>1</td>\n",
       "      <td>30517097</td>\n",
       "      <td>The administration of high-mobility group box ...</td>\n",
       "      <td>we hypothesized that systemic administration o...</td>\n",
       "      <td>['Animals', 'Animals, Genetically Modified', '...</td>\n",
       "      <td>{'Year': '2018', 'Month': '', 'Day': '', 'Seas...</td>\n",
       "    </tr>\n",
       "    <tr>\n",
       "      <th>2</th>\n",
       "      <td>2</td>\n",
       "      <td>27853260</td>\n",
       "      <td>The synthetic antimicrobial peptide 19-2.5 att...</td>\n",
       "      <td>an impairment of cardiac function is a key fea...</td>\n",
       "      <td>['Animals', 'Antimicrobial Cationic Peptides',...</td>\n",
       "      <td>{'Year': '2016', 'Month': '11', 'Day': '17', '...</td>\n",
       "    </tr>\n",
       "    <tr>\n",
       "      <th>3</th>\n",
       "      <td>3</td>\n",
       "      <td>19432907</td>\n",
       "      <td>Current understanding and management of dilate...</td>\n",
       "      <td>to review the current understanding of the pat...</td>\n",
       "      <td>['Adrenergic beta-Antagonists', 'therapeutic u...</td>\n",
       "      <td>{'Year': '2009', 'Month': 'May', 'Day': '', 'S...</td>\n",
       "    </tr>\n",
       "    <tr>\n",
       "      <th>4</th>\n",
       "      <td>4</td>\n",
       "      <td>24898986</td>\n",
       "      <td>Comorbidity profiles and inpatient outcomes du...</td>\n",
       "      <td>treatment of heart failure (hf) is particularl...</td>\n",
       "      <td>['Aged', 'Comorbidity', 'Female', 'Heart Failu...</td>\n",
       "      <td>{'Year': '2014', 'Month': 'Jun', 'Day': '05', ...</td>\n",
       "    </tr>\n",
       "    <tr>\n",
       "      <th>...</th>\n",
       "      <td>...</td>\n",
       "      <td>...</td>\n",
       "      <td>...</td>\n",
       "      <td>...</td>\n",
       "      <td>...</td>\n",
       "      <td>...</td>\n",
       "    </tr>\n",
       "    <tr>\n",
       "      <th>16733</th>\n",
       "      <td>16770</td>\n",
       "      <td>27796324</td>\n",
       "      <td>Myocyte-specific enhancer factor 2C: a novel t...</td>\n",
       "      <td>the role of microrna 214 3p (mir 214 3p) in ca...</td>\n",
       "      <td>['Angiotensin II', 'toxicity', 'Animals', 'Ant...</td>\n",
       "      <td>{'Year': '2016', 'Month': '10', 'Day': '31', '...</td>\n",
       "    </tr>\n",
       "    <tr>\n",
       "      <th>16734</th>\n",
       "      <td>16771</td>\n",
       "      <td>2963469</td>\n",
       "      <td>123-Iodine heptadecanoic acid (HDA) cardiac me...</td>\n",
       "      <td>in 8 sportsmen and 8 healthy subjects of simil...</td>\n",
       "      <td>['Adult', 'Cardiomegaly', 'diagnostic imaging'...</td>\n",
       "      <td>{'Year': '1987', 'Month': '', 'Day': '', 'Seas...</td>\n",
       "    </tr>\n",
       "    <tr>\n",
       "      <th>16735</th>\n",
       "      <td>16772</td>\n",
       "      <td>15522283</td>\n",
       "      <td>Inhibition of phenylephrine induced hypertroph...</td>\n",
       "      <td>the effect of the putative mitochondrial k(atp...</td>\n",
       "      <td>['Adrenergic alpha-1 Receptor Agonists', 'Anim...</td>\n",
       "      <td>{'Year': '2004', 'Month': 'Nov', 'Day': '', 'S...</td>\n",
       "    </tr>\n",
       "    <tr>\n",
       "      <th>16736</th>\n",
       "      <td>16773</td>\n",
       "      <td>30573811</td>\n",
       "      <td>Association between epicardial adipose tissue ...</td>\n",
       "      <td>epicardial adipose tissue (eat), metabolically...</td>\n",
       "      <td>['Adipose Tissue', 'diagnostic imaging', 'Aged...</td>\n",
       "      <td>{'Year': '2019', 'Month': '04', 'Day': '', 'Se...</td>\n",
       "    </tr>\n",
       "    <tr>\n",
       "      <th>16737</th>\n",
       "      <td>16774</td>\n",
       "      <td>19096029</td>\n",
       "      <td>Gap junction remodeling and spironolactone-dep...</td>\n",
       "      <td>pressure overload is a common pathological ins...</td>\n",
       "      <td>['Animals', 'Cardiomegaly', 'diagnostic imagin...</td>\n",
       "      <td>{'Year': '2009', 'Month': 'Feb', 'Day': '13', ...</td>\n",
       "    </tr>\n",
       "  </tbody>\n",
       "</table>\n",
       "<p>16738 rows × 6 columns</p>\n",
       "</div>"
      ],
      "text/plain": [
       "       Unnamed: 0      pmid  \\\n",
       "0               0  20091048   \n",
       "1               1  30517097   \n",
       "2               2  27853260   \n",
       "3               3  19432907   \n",
       "4               4  24898986   \n",
       "...           ...       ...   \n",
       "16733       16770  27796324   \n",
       "16734       16771   2963469   \n",
       "16735       16772  15522283   \n",
       "16736       16773  30573811   \n",
       "16737       16774  19096029   \n",
       "\n",
       "                                                   title  \\\n",
       "0                        Cardiac sodium channelopathies.   \n",
       "1      The administration of high-mobility group box ...   \n",
       "2      The synthetic antimicrobial peptide 19-2.5 att...   \n",
       "3      Current understanding and management of dilate...   \n",
       "4      Comorbidity profiles and inpatient outcomes du...   \n",
       "...                                                  ...   \n",
       "16733  Myocyte-specific enhancer factor 2C: a novel t...   \n",
       "16734  123-Iodine heptadecanoic acid (HDA) cardiac me...   \n",
       "16735  Inhibition of phenylephrine induced hypertroph...   \n",
       "16736  Association between epicardial adipose tissue ...   \n",
       "16737  Gap junction remodeling and spironolactone-dep...   \n",
       "\n",
       "                                                abstract  \\\n",
       "0      cardiac sodium channel are protein complexes t...   \n",
       "1      we hypothesized that systemic administration o...   \n",
       "2      an impairment of cardiac function is a key fea...   \n",
       "3      to review the current understanding of the pat...   \n",
       "4      treatment of heart failure (hf) is particularl...   \n",
       "...                                                  ...   \n",
       "16733  the role of microrna 214 3p (mir 214 3p) in ca...   \n",
       "16734  in 8 sportsmen and 8 healthy subjects of simil...   \n",
       "16735  the effect of the putative mitochondrial k(atp...   \n",
       "16736  epicardial adipose tissue (eat), metabolically...   \n",
       "16737  pressure overload is a common pathological ins...   \n",
       "\n",
       "                                                    mesh  \\\n",
       "0      ['Animals', 'Arrhythmias, Cardiac', 'genetics'...   \n",
       "1      ['Animals', 'Animals, Genetically Modified', '...   \n",
       "2      ['Animals', 'Antimicrobial Cationic Peptides',...   \n",
       "3      ['Adrenergic beta-Antagonists', 'therapeutic u...   \n",
       "4      ['Aged', 'Comorbidity', 'Female', 'Heart Failu...   \n",
       "...                                                  ...   \n",
       "16733  ['Angiotensin II', 'toxicity', 'Animals', 'Ant...   \n",
       "16734  ['Adult', 'Cardiomegaly', 'diagnostic imaging'...   \n",
       "16735  ['Adrenergic alpha-1 Receptor Agonists', 'Anim...   \n",
       "16736  ['Adipose Tissue', 'diagnostic imaging', 'Aged...   \n",
       "16737  ['Animals', 'Cardiomegaly', 'diagnostic imagin...   \n",
       "\n",
       "                                                    date  \n",
       "0      {'Year': '2010', 'Month': 'Jul', 'Day': '', 'S...  \n",
       "1      {'Year': '2018', 'Month': '', 'Day': '', 'Seas...  \n",
       "2      {'Year': '2016', 'Month': '11', 'Day': '17', '...  \n",
       "3      {'Year': '2009', 'Month': 'May', 'Day': '', 'S...  \n",
       "4      {'Year': '2014', 'Month': 'Jun', 'Day': '05', ...  \n",
       "...                                                  ...  \n",
       "16733  {'Year': '2016', 'Month': '10', 'Day': '31', '...  \n",
       "16734  {'Year': '1987', 'Month': '', 'Day': '', 'Seas...  \n",
       "16735  {'Year': '2004', 'Month': 'Nov', 'Day': '', 'S...  \n",
       "16736  {'Year': '2019', 'Month': '04', 'Day': '', 'Se...  \n",
       "16737  {'Year': '2009', 'Month': 'Feb', 'Day': '13', ...  \n",
       "\n",
       "[16738 rows x 6 columns]"
      ]
     },
     "execution_count": 12,
     "metadata": {},
     "output_type": "execute_result"
    }
   ],
   "source": [
    "df2 = pd.read_csv(\"data/CVDpmid.csv\")\n",
    "df2"
   ]
  },
  {
   "cell_type": "code",
   "execution_count": 13,
   "metadata": {},
   "outputs": [],
   "source": [
    "def create_document_nodes(tx, pmid, title, date):\n",
    "    query = \"MERGE (d:Document{id:$pmid, title:$title, date:$date})\"\n",
    "    tx.run(query, pmid=pmid, title=title, date=date)"
   ]
  },
  {
   "cell_type": "code",
   "execution_count": 14,
   "metadata": {},
   "outputs": [
    {
     "name": "stdout",
     "output_type": "stream",
     "text": [
      "Length of Data:  16738 iterations\n"
     ]
    },
    {
     "name": "stderr",
     "output_type": "stream",
     "text": [
      "Importing Documents: 16738it [02:21, 118.25it/s]"
     ]
    },
    {
     "name": "stdout",
     "output_type": "stream",
     "text": [
      "Success\n"
     ]
    },
    {
     "name": "stderr",
     "output_type": "stream",
     "text": [
      "\n"
     ]
    }
   ],
   "source": [
    "print(\"Length of Data: \", len(df2), \"iterations\", flush = True)\n",
    "with driver.session() as session:\n",
    "    for pmid, title, date in tqdm(zip(df2[\"pmid\"],df2[\"title\"],df2[\"date\"]), desc = \"Importing Documents\"):\n",
    "        session.write_transaction(create_document_nodes, pmid, title, date)\n",
    "\n",
    "print(\"Success\")"
   ]
  },
  {
   "cell_type": "markdown",
   "metadata": {},
   "source": [
    "##### Importing CVD MeSH"
   ]
  },
  {
   "cell_type": "code",
   "execution_count": 19,
   "metadata": {},
   "outputs": [
    {
     "data": {
      "text/html": [
       "<div>\n",
       "<style scoped>\n",
       "    .dataframe tbody tr th:only-of-type {\n",
       "        vertical-align: middle;\n",
       "    }\n",
       "\n",
       "    .dataframe tbody tr th {\n",
       "        vertical-align: top;\n",
       "    }\n",
       "\n",
       "    .dataframe thead th {\n",
       "        text-align: right;\n",
       "    }\n",
       "</style>\n",
       "<table border=\"1\" class=\"dataframe\">\n",
       "  <thead>\n",
       "    <tr style=\"text-align: right;\">\n",
       "      <th></th>\n",
       "      <th>Unnamed: 0</th>\n",
       "      <th>Name</th>\n",
       "      <th>ID</th>\n",
       "      <th>CVD</th>\n",
       "    </tr>\n",
       "  </thead>\n",
       "  <tbody>\n",
       "    <tr>\n",
       "      <th>0</th>\n",
       "      <td>0</td>\n",
       "      <td>cardiomyopathies</td>\n",
       "      <td>C14.280.238</td>\n",
       "      <td>CM</td>\n",
       "    </tr>\n",
       "    <tr>\n",
       "      <th>1</th>\n",
       "      <td>1</td>\n",
       "      <td>arrhythmogenic right ventricular dysplasia</td>\n",
       "      <td>C16.131.240.400.145</td>\n",
       "      <td>CM</td>\n",
       "    </tr>\n",
       "    <tr>\n",
       "      <th>2</th>\n",
       "      <td>2</td>\n",
       "      <td>cardiomyopathy, alcoholic</td>\n",
       "      <td>C25.775.100.087.250</td>\n",
       "      <td>CM</td>\n",
       "    </tr>\n",
       "    <tr>\n",
       "      <th>3</th>\n",
       "      <td>3</td>\n",
       "      <td>cardiomyopathy, dilated</td>\n",
       "      <td>C16.320.488.750</td>\n",
       "      <td>CM</td>\n",
       "    </tr>\n",
       "    <tr>\n",
       "      <th>4</th>\n",
       "      <td>4</td>\n",
       "      <td>cardiomyopathy, hypertrophic</td>\n",
       "      <td>C14.280.484.048.750.070.160</td>\n",
       "      <td>CM</td>\n",
       "    </tr>\n",
       "    <tr>\n",
       "      <th>...</th>\n",
       "      <td>...</td>\n",
       "      <td>...</td>\n",
       "      <td>...</td>\n",
       "      <td>...</td>\n",
       "    </tr>\n",
       "    <tr>\n",
       "      <th>221</th>\n",
       "      <td>221</td>\n",
       "      <td>cardiac papillary fibroelastoma</td>\n",
       "      <td>C14.280.459.250</td>\n",
       "      <td>OHD</td>\n",
       "    </tr>\n",
       "    <tr>\n",
       "      <th>222</th>\n",
       "      <td>222</td>\n",
       "      <td>carney complex</td>\n",
       "      <td>C16.131.831.108</td>\n",
       "      <td>OHD</td>\n",
       "    </tr>\n",
       "    <tr>\n",
       "      <th>223</th>\n",
       "      <td>223</td>\n",
       "      <td>pericarditis</td>\n",
       "      <td>C14.280.720</td>\n",
       "      <td>OHD</td>\n",
       "    </tr>\n",
       "    <tr>\n",
       "      <th>224</th>\n",
       "      <td>224</td>\n",
       "      <td>pericarditis, constrictive</td>\n",
       "      <td>C14.280.720.595</td>\n",
       "      <td>OHD</td>\n",
       "    </tr>\n",
       "    <tr>\n",
       "      <th>225</th>\n",
       "      <td>225</td>\n",
       "      <td>pericarditis, tuberculous</td>\n",
       "      <td>C14.280.720.801</td>\n",
       "      <td>OHD</td>\n",
       "    </tr>\n",
       "  </tbody>\n",
       "</table>\n",
       "<p>226 rows × 4 columns</p>\n",
       "</div>"
      ],
      "text/plain": [
       "     Unnamed: 0                                        Name  \\\n",
       "0             0                            cardiomyopathies   \n",
       "1             1  arrhythmogenic right ventricular dysplasia   \n",
       "2             2                   cardiomyopathy, alcoholic   \n",
       "3             3                     cardiomyopathy, dilated   \n",
       "4             4                cardiomyopathy, hypertrophic   \n",
       "..          ...                                         ...   \n",
       "221         221             cardiac papillary fibroelastoma   \n",
       "222         222                              carney complex   \n",
       "223         223                                pericarditis   \n",
       "224         224                  pericarditis, constrictive   \n",
       "225         225                   pericarditis, tuberculous   \n",
       "\n",
       "                              ID  CVD  \n",
       "0                    C14.280.238   CM  \n",
       "1            C16.131.240.400.145   CM  \n",
       "2            C25.775.100.087.250   CM  \n",
       "3                C16.320.488.750   CM  \n",
       "4    C14.280.484.048.750.070.160   CM  \n",
       "..                           ...  ...  \n",
       "221              C14.280.459.250  OHD  \n",
       "222              C16.131.831.108  OHD  \n",
       "223                  C14.280.720  OHD  \n",
       "224              C14.280.720.595  OHD  \n",
       "225              C14.280.720.801  OHD  \n",
       "\n",
       "[226 rows x 4 columns]"
      ]
     },
     "execution_count": 19,
     "metadata": {},
     "output_type": "execute_result"
    }
   ],
   "source": [
    "df3 = pd.read_csv(\"data/CVD_mesh_nodes.csv\")\n",
    "df3"
   ]
  },
  {
   "cell_type": "code",
   "execution_count": 20,
   "metadata": {},
   "outputs": [],
   "source": [
    "def create_mesh_nodes(tx, mid, name):\n",
    "    query = \"MERGE (m:MeSH{id:$mid, name:$name})\"\n",
    "    tx.run(query, mid=mid, name=name)"
   ]
  },
  {
   "cell_type": "code",
   "execution_count": 25,
   "metadata": {},
   "outputs": [
    {
     "name": "stdout",
     "output_type": "stream",
     "text": [
      "Length of Data:  226 iterations\n"
     ]
    },
    {
     "name": "stderr",
     "output_type": "stream",
     "text": [
      "Importing MeSH: 226it [00:01, 201.11it/s]"
     ]
    },
    {
     "name": "stdout",
     "output_type": "stream",
     "text": [
      "Success\n"
     ]
    },
    {
     "name": "stderr",
     "output_type": "stream",
     "text": [
      "\n"
     ]
    }
   ],
   "source": [
    "print(\"Length of Data: \", len(df3), \"iterations\", flush = True)\n",
    "with driver.session() as session:\n",
    "    for mid,name in tqdm(zip(df3[\"ID\"],df3[\"Name\"]), desc = \"Importing MeSH\"):\n",
    "        session.write_transaction(create_mesh_nodes, mid,name)\n",
    "\n",
    "print(\"Success\")"
   ]
  },
  {
   "cell_type": "markdown",
   "metadata": {},
   "source": [
    "##### Linking CVD MeSH with PubMed Documents"
   ]
  },
  {
   "cell_type": "code",
   "execution_count": 27,
   "metadata": {},
   "outputs": [
    {
     "data": {
      "text/html": [
       "<div>\n",
       "<style scoped>\n",
       "    .dataframe tbody tr th:only-of-type {\n",
       "        vertical-align: middle;\n",
       "    }\n",
       "\n",
       "    .dataframe tbody tr th {\n",
       "        vertical-align: top;\n",
       "    }\n",
       "\n",
       "    .dataframe thead th {\n",
       "        text-align: right;\n",
       "    }\n",
       "</style>\n",
       "<table border=\"1\" class=\"dataframe\">\n",
       "  <thead>\n",
       "    <tr style=\"text-align: right;\">\n",
       "      <th></th>\n",
       "      <th>Unnamed: 0</th>\n",
       "      <th>pmid</th>\n",
       "      <th>name</th>\n",
       "      <th>mid</th>\n",
       "    </tr>\n",
       "  </thead>\n",
       "  <tbody>\n",
       "    <tr>\n",
       "      <th>0</th>\n",
       "      <td>0</td>\n",
       "      <td>20091048</td>\n",
       "      <td>arrhythmias, cardiac</td>\n",
       "      <td>C23.550.073</td>\n",
       "    </tr>\n",
       "    <tr>\n",
       "      <th>1</th>\n",
       "      <td>1</td>\n",
       "      <td>20091048</td>\n",
       "      <td>brugada syndrome</td>\n",
       "      <td>C16.320.100</td>\n",
       "    </tr>\n",
       "    <tr>\n",
       "      <th>2</th>\n",
       "      <td>2</td>\n",
       "      <td>20091048</td>\n",
       "      <td>cardiomyopathy, dilated</td>\n",
       "      <td>C16.320.488.750</td>\n",
       "    </tr>\n",
       "    <tr>\n",
       "      <th>3</th>\n",
       "      <td>3</td>\n",
       "      <td>20091048</td>\n",
       "      <td>long qt syndrome</td>\n",
       "      <td>C23.550.073.547</td>\n",
       "    </tr>\n",
       "    <tr>\n",
       "      <th>4</th>\n",
       "      <td>4</td>\n",
       "      <td>20091048</td>\n",
       "      <td>sick sinus syndrome</td>\n",
       "      <td>C23.550.073.425.440</td>\n",
       "    </tr>\n",
       "    <tr>\n",
       "      <th>...</th>\n",
       "      <td>...</td>\n",
       "      <td>...</td>\n",
       "      <td>...</td>\n",
       "      <td>...</td>\n",
       "    </tr>\n",
       "    <tr>\n",
       "      <th>23118</th>\n",
       "      <td>25233</td>\n",
       "      <td>27796324</td>\n",
       "      <td>cardiomegaly</td>\n",
       "      <td>C23.300.775.250</td>\n",
       "    </tr>\n",
       "    <tr>\n",
       "      <th>23119</th>\n",
       "      <td>25234</td>\n",
       "      <td>2963469</td>\n",
       "      <td>cardiomegaly</td>\n",
       "      <td>C23.300.775.250</td>\n",
       "    </tr>\n",
       "    <tr>\n",
       "      <th>23120</th>\n",
       "      <td>25235</td>\n",
       "      <td>15522283</td>\n",
       "      <td>cardiomegaly</td>\n",
       "      <td>C23.300.775.250</td>\n",
       "    </tr>\n",
       "    <tr>\n",
       "      <th>23121</th>\n",
       "      <td>25236</td>\n",
       "      <td>30573811</td>\n",
       "      <td>ventricular dysfunction, left</td>\n",
       "      <td>C14.280.945.900</td>\n",
       "    </tr>\n",
       "    <tr>\n",
       "      <th>23122</th>\n",
       "      <td>25237</td>\n",
       "      <td>19096029</td>\n",
       "      <td>cardiomegaly</td>\n",
       "      <td>C23.300.775.250</td>\n",
       "    </tr>\n",
       "  </tbody>\n",
       "</table>\n",
       "<p>23123 rows × 4 columns</p>\n",
       "</div>"
      ],
      "text/plain": [
       "       Unnamed: 0      pmid                           name  \\\n",
       "0               0  20091048           arrhythmias, cardiac   \n",
       "1               1  20091048               brugada syndrome   \n",
       "2               2  20091048        cardiomyopathy, dilated   \n",
       "3               3  20091048               long qt syndrome   \n",
       "4               4  20091048            sick sinus syndrome   \n",
       "...           ...       ...                            ...   \n",
       "23118       25233  27796324                   cardiomegaly   \n",
       "23119       25234   2963469                   cardiomegaly   \n",
       "23120       25235  15522283                   cardiomegaly   \n",
       "23121       25236  30573811  ventricular dysfunction, left   \n",
       "23122       25237  19096029                   cardiomegaly   \n",
       "\n",
       "                       mid  \n",
       "0              C23.550.073  \n",
       "1              C16.320.100  \n",
       "2          C16.320.488.750  \n",
       "3          C23.550.073.547  \n",
       "4      C23.550.073.425.440  \n",
       "...                    ...  \n",
       "23118      C23.300.775.250  \n",
       "23119      C23.300.775.250  \n",
       "23120      C23.300.775.250  \n",
       "23121      C14.280.945.900  \n",
       "23122      C23.300.775.250  \n",
       "\n",
       "[23123 rows x 4 columns]"
      ]
     },
     "execution_count": 27,
     "metadata": {},
     "output_type": "execute_result"
    }
   ],
   "source": [
    "dfe1 = pd.read_csv(\"data/PMIDtoCVDMesh.csv\")\n",
    "dfe1"
   ]
  },
  {
   "cell_type": "code",
   "execution_count": 29,
   "metadata": {},
   "outputs": [],
   "source": [
    "def create_document2mesh_edge(tx, pmid, mid):\n",
    "    query = '''\n",
    "    MATCH (d:Document{id:$pmid})\n",
    "    MATCH (m:MeSH{id:$mid})\n",
    "    MERGE (d)-[:ASSIGNS]->(m)\n",
    "    '''\n",
    "    tx.run(query, pmid=pmid, mid=mid)"
   ]
  },
  {
   "cell_type": "code",
   "execution_count": 32,
   "metadata": {},
   "outputs": [
    {
     "name": "stdout",
     "output_type": "stream",
     "text": [
      "Length of Data:  23123 iterations\n"
     ]
    },
    {
     "name": "stderr",
     "output_type": "stream",
     "text": [
      "Creating Relationships: 23123it [01:27, 265.28it/s]"
     ]
    },
    {
     "name": "stdout",
     "output_type": "stream",
     "text": [
      "Success\n"
     ]
    },
    {
     "name": "stderr",
     "output_type": "stream",
     "text": [
      "\n"
     ]
    }
   ],
   "source": [
    "print(\"Length of Data: \", len(dfe1), \"iterations\", flush = True)\n",
    "with driver.session() as session:\n",
    "    for pmid, mid in tqdm(zip(dfe1[\"pmid\"], dfe1[\"mid\"]), desc = \"Creating Relationships\"):\n",
    "        session.write_transaction(create_document2mesh_edge, pmid, mid)\n",
    "\n",
    "print(\"Success\")"
   ]
  },
  {
   "cell_type": "markdown",
   "metadata": {},
   "source": [
    "##### Linking Ion Channel Proteins with CVD MeSH"
   ]
  },
  {
   "cell_type": "code",
   "execution_count": 33,
   "metadata": {},
   "outputs": [
    {
     "data": {
      "text/html": [
       "<div>\n",
       "<style scoped>\n",
       "    .dataframe tbody tr th:only-of-type {\n",
       "        vertical-align: middle;\n",
       "    }\n",
       "\n",
       "    .dataframe tbody tr th {\n",
       "        vertical-align: top;\n",
       "    }\n",
       "\n",
       "    .dataframe thead th {\n",
       "        text-align: right;\n",
       "    }\n",
       "</style>\n",
       "<table border=\"1\" class=\"dataframe\">\n",
       "  <thead>\n",
       "    <tr style=\"text-align: right;\">\n",
       "      <th></th>\n",
       "      <th>Unnamed: 0</th>\n",
       "      <th>pmid</th>\n",
       "      <th>protein</th>\n",
       "      <th>edge</th>\n",
       "      <th>keep</th>\n",
       "    </tr>\n",
       "  </thead>\n",
       "  <tbody>\n",
       "    <tr>\n",
       "      <th>0</th>\n",
       "      <td>0</td>\n",
       "      <td>20091048</td>\n",
       "      <td>P56539</td>\n",
       "      <td>MENTIONS</td>\n",
       "      <td>True</td>\n",
       "    </tr>\n",
       "    <tr>\n",
       "      <th>1</th>\n",
       "      <td>1</td>\n",
       "      <td>30517097</td>\n",
       "      <td>P11532</td>\n",
       "      <td>MENTIONS</td>\n",
       "      <td>True</td>\n",
       "    </tr>\n",
       "    <tr>\n",
       "      <th>2</th>\n",
       "      <td>2</td>\n",
       "      <td>27853260</td>\n",
       "      <td>P16615</td>\n",
       "      <td>MENTIONS</td>\n",
       "      <td>True</td>\n",
       "    </tr>\n",
       "    <tr>\n",
       "      <th>3</th>\n",
       "      <td>3</td>\n",
       "      <td>19432907</td>\n",
       "      <td>P11532</td>\n",
       "      <td>MENTIONS</td>\n",
       "      <td>True</td>\n",
       "    </tr>\n",
       "    <tr>\n",
       "      <th>4</th>\n",
       "      <td>4</td>\n",
       "      <td>24898986</td>\n",
       "      <td>O00555</td>\n",
       "      <td>MENTIONS</td>\n",
       "      <td>True</td>\n",
       "    </tr>\n",
       "    <tr>\n",
       "      <th>...</th>\n",
       "      <td>...</td>\n",
       "      <td>...</td>\n",
       "      <td>...</td>\n",
       "      <td>...</td>\n",
       "      <td>...</td>\n",
       "    </tr>\n",
       "    <tr>\n",
       "      <th>16733</th>\n",
       "      <td>16770</td>\n",
       "      <td>27796324</td>\n",
       "      <td>P32418</td>\n",
       "      <td>MENTIONS</td>\n",
       "      <td>True</td>\n",
       "    </tr>\n",
       "    <tr>\n",
       "      <th>16734</th>\n",
       "      <td>16771</td>\n",
       "      <td>2963469</td>\n",
       "      <td>O00555</td>\n",
       "      <td>MENTIONS</td>\n",
       "      <td>True</td>\n",
       "    </tr>\n",
       "    <tr>\n",
       "      <th>16735</th>\n",
       "      <td>16772</td>\n",
       "      <td>15522283</td>\n",
       "      <td>P19634</td>\n",
       "      <td>MENTIONS</td>\n",
       "      <td>True</td>\n",
       "    </tr>\n",
       "    <tr>\n",
       "      <th>16736</th>\n",
       "      <td>16773</td>\n",
       "      <td>30573811</td>\n",
       "      <td>P05067</td>\n",
       "      <td>MENTIONS</td>\n",
       "      <td>True</td>\n",
       "    </tr>\n",
       "    <tr>\n",
       "      <th>16737</th>\n",
       "      <td>16774</td>\n",
       "      <td>19096029</td>\n",
       "      <td>P17302</td>\n",
       "      <td>MENTIONS</td>\n",
       "      <td>True</td>\n",
       "    </tr>\n",
       "  </tbody>\n",
       "</table>\n",
       "<p>16738 rows × 5 columns</p>\n",
       "</div>"
      ],
      "text/plain": [
       "       Unnamed: 0      pmid protein      edge  keep\n",
       "0               0  20091048  P56539  MENTIONS  True\n",
       "1               1  30517097  P11532  MENTIONS  True\n",
       "2               2  27853260  P16615  MENTIONS  True\n",
       "3               3  19432907  P11532  MENTIONS  True\n",
       "4               4  24898986  O00555  MENTIONS  True\n",
       "...           ...       ...     ...       ...   ...\n",
       "16733       16770  27796324  P32418  MENTIONS  True\n",
       "16734       16771   2963469  O00555  MENTIONS  True\n",
       "16735       16772  15522283  P19634  MENTIONS  True\n",
       "16736       16773  30573811  P05067  MENTIONS  True\n",
       "16737       16774  19096029  P17302  MENTIONS  True\n",
       "\n",
       "[16738 rows x 5 columns]"
      ]
     },
     "execution_count": 33,
     "metadata": {},
     "output_type": "execute_result"
    }
   ],
   "source": [
    "dfe2 = pd.read_csv(\"data/pmidtoProtein.csv\")\n",
    "dfe2"
   ]
  },
  {
   "cell_type": "code",
   "execution_count": 35,
   "metadata": {},
   "outputs": [],
   "source": [
    "def create_document2protein_edge(tx, pmid, uid):\n",
    "    query = '''\n",
    "    MATCH (d:Document{id:$pmid})\n",
    "    MATCH (p:Protein{id:$uid})\n",
    "    MERGE (d)-[:MENTIONS]->(p)\n",
    "    '''\n",
    "    tx.run(query, pmid=pmid, uid=uid)"
   ]
  },
  {
   "cell_type": "code",
   "execution_count": 37,
   "metadata": {},
   "outputs": [
    {
     "name": "stdout",
     "output_type": "stream",
     "text": [
      "Length of Data:  16738 iterations\n"
     ]
    },
    {
     "name": "stderr",
     "output_type": "stream",
     "text": [
      "Creating Relationships: 16738it [02:36, 106.63it/s]"
     ]
    },
    {
     "name": "stdout",
     "output_type": "stream",
     "text": [
      "Success\n"
     ]
    },
    {
     "name": "stderr",
     "output_type": "stream",
     "text": [
      "\n"
     ]
    }
   ],
   "source": [
    "print(\"Length of Data: \", len(dfe2), \"iterations\", flush = True)\n",
    "with driver.session() as session:\n",
    "    for pmid, uid in tqdm(zip(dfe2[\"pmid\"], dfe2[\"protein\"]), desc = \"Creating Relationships\"):\n",
    "        session.write_transaction(create_document2protein_edge, pmid, uid)\n",
    "\n",
    "print(\"Success\")"
   ]
  },
  {
   "cell_type": "markdown",
   "metadata": {},
   "source": [
    "##### Importing CVD Drugs"
   ]
  },
  {
   "cell_type": "code",
   "execution_count": 43,
   "metadata": {},
   "outputs": [
    {
     "data": {
      "text/html": [
       "<div>\n",
       "<style scoped>\n",
       "    .dataframe tbody tr th:only-of-type {\n",
       "        vertical-align: middle;\n",
       "    }\n",
       "\n",
       "    .dataframe tbody tr th {\n",
       "        vertical-align: top;\n",
       "    }\n",
       "\n",
       "    .dataframe thead th {\n",
       "        text-align: right;\n",
       "    }\n",
       "</style>\n",
       "<table border=\"1\" class=\"dataframe\">\n",
       "  <thead>\n",
       "    <tr style=\"text-align: right;\">\n",
       "      <th></th>\n",
       "      <th>name</th>\n",
       "      <th>ID</th>\n",
       "      <th>category</th>\n",
       "      <th>desc</th>\n",
       "      <th>syn</th>\n",
       "      <th>pathways</th>\n",
       "      <th>targets</th>\n",
       "    </tr>\n",
       "  </thead>\n",
       "  <tbody>\n",
       "    <tr>\n",
       "      <th>0</th>\n",
       "      <td>heparin</td>\n",
       "      <td>DB01109</td>\n",
       "      <td>Anticoagulants</td>\n",
       "      <td>Unfractionated heparin (UH) is a heterogenous ...</td>\n",
       "      <td>['Calciparine', 'Eparina', 'heparina', 'Hepari...</td>\n",
       "      <td>['\\n      ', '\\n      ']</td>\n",
       "      <td>['\\n      ', '\\n      ', '\\n      ', '\\n      ...</td>\n",
       "    </tr>\n",
       "    <tr>\n",
       "      <th>1</th>\n",
       "      <td>warfarin</td>\n",
       "      <td>DB00682</td>\n",
       "      <td>Anticoagulants</td>\n",
       "      <td>Warfarin is an anticoagulant drug normally use...</td>\n",
       "      <td>['4-Hydroxy-3-(3-oxo-1-phenylbutyl)coumarin', ...</td>\n",
       "      <td>['\\n      ']</td>\n",
       "      <td>['\\n      ', '\\n      ']</td>\n",
       "    </tr>\n",
       "    <tr>\n",
       "      <th>2</th>\n",
       "      <td>streptokinase</td>\n",
       "      <td>DB00086</td>\n",
       "      <td>Thrombolytics</td>\n",
       "      <td>Streptokinase, is a sterile, purified preparat...</td>\n",
       "      <td>['Streptokinase C precursor', 'Streptokinase']</td>\n",
       "      <td>['\\n      ']</td>\n",
       "      <td>['\\n      ', '\\n      ']</td>\n",
       "    </tr>\n",
       "    <tr>\n",
       "      <th>3</th>\n",
       "      <td>urokinase</td>\n",
       "      <td>DB00013</td>\n",
       "      <td>Thrombolytics</td>\n",
       "      <td>Low molecular weight form of human urokinase, ...</td>\n",
       "      <td>['U-plasminogen activator', 'uPA', 'Urokinase-...</td>\n",
       "      <td>['\\n      ']</td>\n",
       "      <td>['\\n      ', '\\n      ', '\\n      ', '\\n      ...</td>\n",
       "    </tr>\n",
       "    <tr>\n",
       "      <th>4</th>\n",
       "      <td>tpa</td>\n",
       "      <td>DB00009</td>\n",
       "      <td>Thrombolytics</td>\n",
       "      <td>Human tissue plasminogen activator, purified, ...</td>\n",
       "      <td>['Alteplasa', 'Alteplase (genetical recombinat...</td>\n",
       "      <td>['\\n      ']</td>\n",
       "      <td>['\\n      ', '\\n      ', '\\n      ', '\\n      ']</td>\n",
       "    </tr>\n",
       "    <tr>\n",
       "      <th>...</th>\n",
       "      <td>...</td>\n",
       "      <td>...</td>\n",
       "      <td>...</td>\n",
       "      <td>...</td>\n",
       "      <td>...</td>\n",
       "      <td>...</td>\n",
       "      <td>...</td>\n",
       "    </tr>\n",
       "    <tr>\n",
       "      <th>137</th>\n",
       "      <td>dronedarone</td>\n",
       "      <td>DB04855</td>\n",
       "      <td>Potassium Channel Blockers</td>\n",
       "      <td>Dronedarone is a sinus rhythm controller for m...</td>\n",
       "      <td>['Dronedarona', 'Dronedarone', 'N-(2-Butyl-3-(...</td>\n",
       "      <td>[]</td>\n",
       "      <td>['\\n      ', '\\n      ', '\\n      ', '\\n      ...</td>\n",
       "    </tr>\n",
       "    <tr>\n",
       "      <th>138</th>\n",
       "      <td>vernakalant</td>\n",
       "      <td>DB06217</td>\n",
       "      <td>Potassium Channel Blockers</td>\n",
       "      <td>Vernakalant was developed by Cardiome Pharma a...</td>\n",
       "      <td>['(3R)-1-((1R,2R)-2-(2-(3,4-dimethoxyphenyl)et...</td>\n",
       "      <td>[]</td>\n",
       "      <td>['\\n      ', '\\n      ', '\\n      ', '\\n      ']</td>\n",
       "    </tr>\n",
       "    <tr>\n",
       "      <th>139</th>\n",
       "      <td>adenosine</td>\n",
       "      <td>DB00640</td>\n",
       "      <td>Other Anti Arrhythmics</td>\n",
       "      <td>A nucleoside that is composed of adenine and d...</td>\n",
       "      <td>['(2R,3R,4S,5R)-2-(6-aminopurin-9-yl)-5-(hydro...</td>\n",
       "      <td>['\\n      ', '\\n      ', '\\n      ', '\\n      ...</td>\n",
       "      <td>['\\n      ', '\\n      ', '\\n      ', '\\n      ']</td>\n",
       "    </tr>\n",
       "    <tr>\n",
       "      <th>140</th>\n",
       "      <td>magnesium sulfate</td>\n",
       "      <td>DB00653</td>\n",
       "      <td>Other Anti Arrhythmics</td>\n",
       "      <td>A small colorless crystal used as an anticonvu...</td>\n",
       "      <td>['Magnesium sulfate (1:1)', 'Magnesium sulfate...</td>\n",
       "      <td>[]</td>\n",
       "      <td>['\\n      ', '\\n      ', '\\n      ', '\\n      ...</td>\n",
       "    </tr>\n",
       "    <tr>\n",
       "      <th>141</th>\n",
       "      <td>atropine</td>\n",
       "      <td>DB00572</td>\n",
       "      <td>Other Anti Arrhythmics</td>\n",
       "      <td>An alkaloid, originally from Atropa belladonna...</td>\n",
       "      <td>['(±)-atropine', '(±)-hyoscyamine', 'Atropin',...</td>\n",
       "      <td>[]</td>\n",
       "      <td>['\\n      ', '\\n      ', '\\n      ', '\\n      ...</td>\n",
       "    </tr>\n",
       "  </tbody>\n",
       "</table>\n",
       "<p>142 rows × 7 columns</p>\n",
       "</div>"
      ],
      "text/plain": [
       "                  name       ID                    category  \\\n",
       "0              heparin  DB01109              Anticoagulants   \n",
       "1             warfarin  DB00682              Anticoagulants   \n",
       "2        streptokinase  DB00086               Thrombolytics   \n",
       "3            urokinase  DB00013               Thrombolytics   \n",
       "4                  tpa  DB00009               Thrombolytics   \n",
       "..                 ...      ...                         ...   \n",
       "137        dronedarone  DB04855  Potassium Channel Blockers   \n",
       "138        vernakalant  DB06217  Potassium Channel Blockers   \n",
       "139          adenosine  DB00640      Other Anti Arrhythmics   \n",
       "140  magnesium sulfate  DB00653      Other Anti Arrhythmics   \n",
       "141           atropine  DB00572      Other Anti Arrhythmics   \n",
       "\n",
       "                                                  desc  \\\n",
       "0    Unfractionated heparin (UH) is a heterogenous ...   \n",
       "1    Warfarin is an anticoagulant drug normally use...   \n",
       "2    Streptokinase, is a sterile, purified preparat...   \n",
       "3    Low molecular weight form of human urokinase, ...   \n",
       "4    Human tissue plasminogen activator, purified, ...   \n",
       "..                                                 ...   \n",
       "137  Dronedarone is a sinus rhythm controller for m...   \n",
       "138  Vernakalant was developed by Cardiome Pharma a...   \n",
       "139  A nucleoside that is composed of adenine and d...   \n",
       "140  A small colorless crystal used as an anticonvu...   \n",
       "141  An alkaloid, originally from Atropa belladonna...   \n",
       "\n",
       "                                                   syn  \\\n",
       "0    ['Calciparine', 'Eparina', 'heparina', 'Hepari...   \n",
       "1    ['4-Hydroxy-3-(3-oxo-1-phenylbutyl)coumarin', ...   \n",
       "2       ['Streptokinase C precursor', 'Streptokinase']   \n",
       "3    ['U-plasminogen activator', 'uPA', 'Urokinase-...   \n",
       "4    ['Alteplasa', 'Alteplase (genetical recombinat...   \n",
       "..                                                 ...   \n",
       "137  ['Dronedarona', 'Dronedarone', 'N-(2-Butyl-3-(...   \n",
       "138  ['(3R)-1-((1R,2R)-2-(2-(3,4-dimethoxyphenyl)et...   \n",
       "139  ['(2R,3R,4S,5R)-2-(6-aminopurin-9-yl)-5-(hydro...   \n",
       "140  ['Magnesium sulfate (1:1)', 'Magnesium sulfate...   \n",
       "141  ['(±)-atropine', '(±)-hyoscyamine', 'Atropin',...   \n",
       "\n",
       "                                              pathways  \\\n",
       "0                             ['\\n      ', '\\n      ']   \n",
       "1                                         ['\\n      ']   \n",
       "2                                         ['\\n      ']   \n",
       "3                                         ['\\n      ']   \n",
       "4                                         ['\\n      ']   \n",
       "..                                                 ...   \n",
       "137                                                 []   \n",
       "138                                                 []   \n",
       "139  ['\\n      ', '\\n      ', '\\n      ', '\\n      ...   \n",
       "140                                                 []   \n",
       "141                                                 []   \n",
       "\n",
       "                                               targets  \n",
       "0    ['\\n      ', '\\n      ', '\\n      ', '\\n      ...  \n",
       "1                             ['\\n      ', '\\n      ']  \n",
       "2                             ['\\n      ', '\\n      ']  \n",
       "3    ['\\n      ', '\\n      ', '\\n      ', '\\n      ...  \n",
       "4     ['\\n      ', '\\n      ', '\\n      ', '\\n      ']  \n",
       "..                                                 ...  \n",
       "137  ['\\n      ', '\\n      ', '\\n      ', '\\n      ...  \n",
       "138   ['\\n      ', '\\n      ', '\\n      ', '\\n      ']  \n",
       "139   ['\\n      ', '\\n      ', '\\n      ', '\\n      ']  \n",
       "140  ['\\n      ', '\\n      ', '\\n      ', '\\n      ...  \n",
       "141  ['\\n      ', '\\n      ', '\\n      ', '\\n      ...  \n",
       "\n",
       "[142 rows x 7 columns]"
      ]
     },
     "execution_count": 43,
     "metadata": {},
     "output_type": "execute_result"
    }
   ],
   "source": [
    "df4 = pd.read_csv(\"data/drug-nodes.csv\")\n",
    "df4"
   ]
  },
  {
   "cell_type": "code",
   "execution_count": 49,
   "metadata": {},
   "outputs": [],
   "source": [
    "def create_drug_nodes(tx, dgid, cat, name):\n",
    "    query = \"MERGE (dg:Drug{id: $dgid, cat: $cat, name: $name})\"\n",
    "    tx.run(query, dgid=dgid, cat=cat, name=name)"
   ]
  },
  {
   "cell_type": "code",
   "execution_count": 51,
   "metadata": {},
   "outputs": [
    {
     "name": "stdout",
     "output_type": "stream",
     "text": [
      "Length of Data:  142 iterations\n"
     ]
    },
    {
     "name": "stderr",
     "output_type": "stream",
     "text": [
      "Importing Drugs: 142it [00:01, 109.48it/s]"
     ]
    },
    {
     "name": "stdout",
     "output_type": "stream",
     "text": [
      "Success\n"
     ]
    },
    {
     "name": "stderr",
     "output_type": "stream",
     "text": [
      "\n"
     ]
    }
   ],
   "source": [
    "print(\"Length of Data: \", len(df4), \"iterations\", flush = True)\n",
    "with driver.session() as session:\n",
    "    for dgid, name, cat in tqdm(zip(df4[\"ID\"], df4[\"name\"], df4[\"category\"]), desc= \"Importing Drugs\"):\n",
    "        session.write_transaction(create_drug_nodes, dgid, cat, name)\n",
    "\n",
    "print(\"Success\")"
   ]
  },
  {
   "cell_type": "markdown",
   "metadata": {},
   "source": [
    "##### Importing Drug Targets"
   ]
  },
  {
   "cell_type": "code",
   "execution_count": 67,
   "metadata": {},
   "outputs": [
    {
     "data": {
      "text/html": [
       "<div>\n",
       "<style scoped>\n",
       "    .dataframe tbody tr th:only-of-type {\n",
       "        vertical-align: middle;\n",
       "    }\n",
       "\n",
       "    .dataframe tbody tr th {\n",
       "        vertical-align: top;\n",
       "    }\n",
       "\n",
       "    .dataframe thead th {\n",
       "        text-align: right;\n",
       "    }\n",
       "</style>\n",
       "<table border=\"1\" class=\"dataframe\">\n",
       "  <thead>\n",
       "    <tr style=\"text-align: right;\">\n",
       "      <th></th>\n",
       "      <th>Unnamed: 0</th>\n",
       "      <th>Protein</th>\n",
       "    </tr>\n",
       "  </thead>\n",
       "  <tbody>\n",
       "    <tr>\n",
       "      <th>0</th>\n",
       "      <td>0</td>\n",
       "      <td>Q01064</td>\n",
       "    </tr>\n",
       "    <tr>\n",
       "      <th>1</th>\n",
       "      <td>1</td>\n",
       "      <td>P19634</td>\n",
       "    </tr>\n",
       "    <tr>\n",
       "      <th>2</th>\n",
       "      <td>2</td>\n",
       "      <td>Q9BXT2</td>\n",
       "    </tr>\n",
       "    <tr>\n",
       "      <th>3</th>\n",
       "      <td>3</td>\n",
       "      <td>P53805</td>\n",
       "    </tr>\n",
       "    <tr>\n",
       "      <th>4</th>\n",
       "      <td>4</td>\n",
       "      <td>Q13698</td>\n",
       "    </tr>\n",
       "    <tr>\n",
       "      <th>...</th>\n",
       "      <td>...</td>\n",
       "      <td>...</td>\n",
       "    </tr>\n",
       "    <tr>\n",
       "      <th>311</th>\n",
       "      <td>312</td>\n",
       "      <td>Q16515</td>\n",
       "    </tr>\n",
       "    <tr>\n",
       "      <th>312</th>\n",
       "      <td>313</td>\n",
       "      <td>P63252</td>\n",
       "    </tr>\n",
       "    <tr>\n",
       "      <th>313</th>\n",
       "      <td>314</td>\n",
       "      <td>Q9UF02</td>\n",
       "    </tr>\n",
       "    <tr>\n",
       "      <th>314</th>\n",
       "      <td>315</td>\n",
       "      <td>Q9H244</td>\n",
       "    </tr>\n",
       "    <tr>\n",
       "      <th>315</th>\n",
       "      <td>316</td>\n",
       "      <td>P25116</td>\n",
       "    </tr>\n",
       "  </tbody>\n",
       "</table>\n",
       "<p>316 rows × 2 columns</p>\n",
       "</div>"
      ],
      "text/plain": [
       "     Unnamed: 0 Protein\n",
       "0             0  Q01064\n",
       "1             1  P19634\n",
       "2             2  Q9BXT2\n",
       "3             3  P53805\n",
       "4             4  Q13698\n",
       "..          ...     ...\n",
       "311         312  Q16515\n",
       "312         313  P63252\n",
       "313         314  Q9UF02\n",
       "314         315  Q9H244\n",
       "315         316  P25116\n",
       "\n",
       "[316 rows x 2 columns]"
      ]
     },
     "execution_count": 67,
     "metadata": {},
     "output_type": "execute_result"
    }
   ],
   "source": [
    "df5 = pd.read_csv(\"data/drug-target-nodes.csv\")\n",
    "df5"
   ]
  },
  {
   "cell_type": "code",
   "execution_count": 68,
   "metadata": {},
   "outputs": [],
   "source": [
    "def create_drug_target_nodes(tx, uid):\n",
    "    query = \"MERGE (p:Protein{id:$uid})\"\n",
    "    tx.run(query, uid=uid)"
   ]
  },
  {
   "cell_type": "code",
   "execution_count": 69,
   "metadata": {},
   "outputs": [
    {
     "name": "stdout",
     "output_type": "stream",
     "text": [
      "Length of Data:  316 iterations\n"
     ]
    },
    {
     "name": "stderr",
     "output_type": "stream",
     "text": [
      "Importing Drug Targets: 100%|██████████| 316/316 [00:02<00:00, 138.90it/s]"
     ]
    },
    {
     "name": "stdout",
     "output_type": "stream",
     "text": [
      "Success\n"
     ]
    },
    {
     "name": "stderr",
     "output_type": "stream",
     "text": [
      "\n"
     ]
    }
   ],
   "source": [
    "print(\"Length of Data: \", len(df5), \"iterations\", flush = True)\n",
    "with driver.session() as session:\n",
    "    for uid in tqdm(df5[\"Protein\"], desc = \"Importing Drug Targets\"):\n",
    "        session.write_transaction(create_drug_target_nodes, uid)\n",
    "\n",
    "print(\"Success\")"
   ]
  },
  {
   "cell_type": "code",
   "execution_count": 71,
   "metadata": {},
   "outputs": [],
   "source": [
    "def update_drug_target_nodes(tx, uid,typ):\n",
    "    query = \"MERGE (p:Protein{id:$uid}) ON MATCH SET p.t_type=$typ\"\n",
    "    tx.run(query, uid=uid,typ=typ)"
   ]
  },
  {
   "cell_type": "code",
   "execution_count": 72,
   "metadata": {},
   "outputs": [
    {
     "name": "stdout",
     "output_type": "stream",
     "text": [
      "Length of Data:  316 iterations\n",
      "Success\n"
     ]
    }
   ],
   "source": [
    "print(\"Length of Data: \", len(df5), \"iterations\", flush = True)\n",
    "with driver.session() as session:\n",
    "    typ = \"target\"\n",
    "    for uid in df5[\"Protein\"]:\n",
    "        session.write_transaction(update_drug_target_nodes, uid,typ)\n",
    "        \n",
    "print(\"Success\")"
   ]
  },
  {
   "cell_type": "markdown",
   "metadata": {},
   "source": [
    "##### Linking CVD Drugs to Drug Targets\n",
    "- if drug target is ion channel protein, cool\n",
    "- if not, then import protein in graph in hopes of shared biological pathway"
   ]
  },
  {
   "cell_type": "code",
   "execution_count": 74,
   "metadata": {},
   "outputs": [
    {
     "data": {
      "text/html": [
       "<div>\n",
       "<style scoped>\n",
       "    .dataframe tbody tr th:only-of-type {\n",
       "        vertical-align: middle;\n",
       "    }\n",
       "\n",
       "    .dataframe tbody tr th {\n",
       "        vertical-align: top;\n",
       "    }\n",
       "\n",
       "    .dataframe thead th {\n",
       "        text-align: right;\n",
       "    }\n",
       "</style>\n",
       "<table border=\"1\" class=\"dataframe\">\n",
       "  <thead>\n",
       "    <tr style=\"text-align: right;\">\n",
       "      <th></th>\n",
       "      <th>Unnamed: 0</th>\n",
       "      <th>name</th>\n",
       "      <th>cat</th>\n",
       "      <th>protein</th>\n",
       "    </tr>\n",
       "  </thead>\n",
       "  <tbody>\n",
       "    <tr>\n",
       "      <th>0</th>\n",
       "      <td>0</td>\n",
       "      <td>heparin</td>\n",
       "      <td>Anticoagulants</td>\n",
       "      <td>P01008</td>\n",
       "    </tr>\n",
       "    <tr>\n",
       "      <th>1</th>\n",
       "      <td>1</td>\n",
       "      <td>heparin</td>\n",
       "      <td>Anticoagulants</td>\n",
       "      <td>P00742</td>\n",
       "    </tr>\n",
       "    <tr>\n",
       "      <th>2</th>\n",
       "      <td>2</td>\n",
       "      <td>heparin</td>\n",
       "      <td>Anticoagulants</td>\n",
       "      <td>P16109</td>\n",
       "    </tr>\n",
       "    <tr>\n",
       "      <th>3</th>\n",
       "      <td>3</td>\n",
       "      <td>heparin</td>\n",
       "      <td>Anticoagulants</td>\n",
       "      <td>P22455</td>\n",
       "    </tr>\n",
       "    <tr>\n",
       "      <th>4</th>\n",
       "      <td>4</td>\n",
       "      <td>heparin</td>\n",
       "      <td>Anticoagulants</td>\n",
       "      <td>P08620</td>\n",
       "    </tr>\n",
       "    <tr>\n",
       "      <th>...</th>\n",
       "      <td>...</td>\n",
       "      <td>...</td>\n",
       "      <td>...</td>\n",
       "      <td>...</td>\n",
       "    </tr>\n",
       "    <tr>\n",
       "      <th>693</th>\n",
       "      <td>693</td>\n",
       "      <td>atropine</td>\n",
       "      <td>Other Anti Arrhythmics</td>\n",
       "      <td>P08173</td>\n",
       "    </tr>\n",
       "    <tr>\n",
       "      <th>694</th>\n",
       "      <td>694</td>\n",
       "      <td>atropine</td>\n",
       "      <td>Other Anti Arrhythmics</td>\n",
       "      <td>P08912</td>\n",
       "    </tr>\n",
       "    <tr>\n",
       "      <th>695</th>\n",
       "      <td>695</td>\n",
       "      <td>atropine</td>\n",
       "      <td>Other Anti Arrhythmics</td>\n",
       "      <td>P23415</td>\n",
       "    </tr>\n",
       "    <tr>\n",
       "      <th>696</th>\n",
       "      <td>696</td>\n",
       "      <td>atropine</td>\n",
       "      <td>Other Anti Arrhythmics</td>\n",
       "      <td>P43681</td>\n",
       "    </tr>\n",
       "    <tr>\n",
       "      <th>697</th>\n",
       "      <td>697</td>\n",
       "      <td>atropine</td>\n",
       "      <td>Other Anti Arrhythmics</td>\n",
       "      <td>P17787</td>\n",
       "    </tr>\n",
       "  </tbody>\n",
       "</table>\n",
       "<p>698 rows × 4 columns</p>\n",
       "</div>"
      ],
      "text/plain": [
       "     Unnamed: 0      name                     cat protein\n",
       "0             0   heparin          Anticoagulants  P01008\n",
       "1             1   heparin          Anticoagulants  P00742\n",
       "2             2   heparin          Anticoagulants  P16109\n",
       "3             3   heparin          Anticoagulants  P22455\n",
       "4             4   heparin          Anticoagulants  P08620\n",
       "..          ...       ...                     ...     ...\n",
       "693         693  atropine  Other Anti Arrhythmics  P08173\n",
       "694         694  atropine  Other Anti Arrhythmics  P08912\n",
       "695         695  atropine  Other Anti Arrhythmics  P23415\n",
       "696         696  atropine  Other Anti Arrhythmics  P43681\n",
       "697         697  atropine  Other Anti Arrhythmics  P17787\n",
       "\n",
       "[698 rows x 4 columns]"
      ]
     },
     "execution_count": 74,
     "metadata": {},
     "output_type": "execute_result"
    }
   ],
   "source": [
    "dfe3 = pd.read_csv(\"data/drug2targets-edge.csv\")\n",
    "dfe3"
   ]
  },
  {
   "cell_type": "code",
   "execution_count": 75,
   "metadata": {},
   "outputs": [],
   "source": [
    "def create_dg2t_edge(tx, name, uid):\n",
    "    query = '''\n",
    "    MATCH (dg:Drug{name:$name})\n",
    "    MATCH (p:Protein{id:$uid})\n",
    "    MERGE (dg)-[:TARGET]->(p)\n",
    "    '''\n",
    "    tx.run(query, name=name, uid=uid)"
   ]
  },
  {
   "cell_type": "code",
   "execution_count": 77,
   "metadata": {},
   "outputs": [
    {
     "name": "stdout",
     "output_type": "stream",
     "text": [
      "Length of Data:  698 iterations\n"
     ]
    },
    {
     "name": "stderr",
     "output_type": "stream",
     "text": [
      "Creating Relationships: 698it [00:06, 102.69it/s]"
     ]
    },
    {
     "name": "stdout",
     "output_type": "stream",
     "text": [
      "Success\n"
     ]
    },
    {
     "name": "stderr",
     "output_type": "stream",
     "text": [
      "\n"
     ]
    }
   ],
   "source": [
    "print(\"Length of Data: \", len(dfe3), \"iterations\", flush = True)\n",
    "with driver.session() as session:\n",
    "    for dgid, uid in tqdm(zip(dfe3[\"name\"], dfe3[\"protein\"]), desc = \"Creating Relationships\"):\n",
    "        session.write_transaction(create_dg2t_edge, dgid, uid)\n",
    "\n",
    "print(\"Success\")"
   ]
  },
  {
   "cell_type": "markdown",
   "metadata": {},
   "source": [
    "##### Deploying Pathways"
   ]
  },
  {
   "cell_type": "code",
   "execution_count": 88,
   "metadata": {},
   "outputs": [
    {
     "data": {
      "text/html": [
       "<div>\n",
       "<style scoped>\n",
       "    .dataframe tbody tr th:only-of-type {\n",
       "        vertical-align: middle;\n",
       "    }\n",
       "\n",
       "    .dataframe tbody tr th {\n",
       "        vertical-align: top;\n",
       "    }\n",
       "\n",
       "    .dataframe thead th {\n",
       "        text-align: right;\n",
       "    }\n",
       "</style>\n",
       "<table border=\"1\" class=\"dataframe\">\n",
       "  <thead>\n",
       "    <tr style=\"text-align: right;\">\n",
       "      <th></th>\n",
       "      <th>Unnamed: 0</th>\n",
       "      <th>ID</th>\n",
       "      <th>Pathway</th>\n",
       "      <th>Protein</th>\n",
       "      <th>Relation</th>\n",
       "    </tr>\n",
       "  </thead>\n",
       "  <tbody>\n",
       "    <tr>\n",
       "      <th>0</th>\n",
       "      <td>0</td>\n",
       "      <td>R-HSA-5578775</td>\n",
       "      <td>Ion homeostasis</td>\n",
       "      <td>Q96D31</td>\n",
       "      <td>INVOLVED_IN</td>\n",
       "    </tr>\n",
       "    <tr>\n",
       "      <th>1</th>\n",
       "      <td>1</td>\n",
       "      <td>R-HSA-5578775</td>\n",
       "      <td>Ion homeostasis</td>\n",
       "      <td>Q14643</td>\n",
       "      <td>INVOLVED_IN</td>\n",
       "    </tr>\n",
       "    <tr>\n",
       "      <th>2</th>\n",
       "      <td>2</td>\n",
       "      <td>R-HSA-5578775</td>\n",
       "      <td>Ion homeostasis</td>\n",
       "      <td>Q92736</td>\n",
       "      <td>INVOLVED_IN</td>\n",
       "    </tr>\n",
       "    <tr>\n",
       "      <th>3</th>\n",
       "      <td>3</td>\n",
       "      <td>R-HSA-5578775</td>\n",
       "      <td>Ion homeostasis</td>\n",
       "      <td>Q13586</td>\n",
       "      <td>INVOLVED_IN</td>\n",
       "    </tr>\n",
       "    <tr>\n",
       "      <th>4</th>\n",
       "      <td>4</td>\n",
       "      <td>R-HSA-5578775</td>\n",
       "      <td>Ion homeostasis</td>\n",
       "      <td>P30626</td>\n",
       "      <td>INVOLVED_IN</td>\n",
       "    </tr>\n",
       "    <tr>\n",
       "      <th>...</th>\n",
       "      <td>...</td>\n",
       "      <td>...</td>\n",
       "      <td>...</td>\n",
       "      <td>...</td>\n",
       "      <td>...</td>\n",
       "    </tr>\n",
       "    <tr>\n",
       "      <th>1424</th>\n",
       "      <td>1424</td>\n",
       "      <td>R-HSA-74160</td>\n",
       "      <td>Gene expression (Transcription)</td>\n",
       "      <td>P0DP23</td>\n",
       "      <td>INVOLVED_IN</td>\n",
       "    </tr>\n",
       "    <tr>\n",
       "      <th>1425</th>\n",
       "      <td>1425</td>\n",
       "      <td>R-HSA-74160</td>\n",
       "      <td>Gene expression (Transcription)</td>\n",
       "      <td>O00141</td>\n",
       "      <td>INVOLVED_IN</td>\n",
       "    </tr>\n",
       "    <tr>\n",
       "      <th>1426</th>\n",
       "      <td>1426</td>\n",
       "      <td>R-HSA-74160</td>\n",
       "      <td>Gene expression (Transcription)</td>\n",
       "      <td>Q13557</td>\n",
       "      <td>INVOLVED_IN</td>\n",
       "    </tr>\n",
       "    <tr>\n",
       "      <th>1427</th>\n",
       "      <td>1427</td>\n",
       "      <td>R-HSA-74160</td>\n",
       "      <td>Gene expression (Transcription)</td>\n",
       "      <td>Q03135</td>\n",
       "      <td>INVOLVED_IN</td>\n",
       "    </tr>\n",
       "    <tr>\n",
       "      <th>1428</th>\n",
       "      <td>1428</td>\n",
       "      <td>R-HSA-74160</td>\n",
       "      <td>Gene expression (Transcription)</td>\n",
       "      <td>P62258</td>\n",
       "      <td>INVOLVED_IN</td>\n",
       "    </tr>\n",
       "  </tbody>\n",
       "</table>\n",
       "<p>1429 rows × 5 columns</p>\n",
       "</div>"
      ],
      "text/plain": [
       "      Unnamed: 0             ID                          Pathway Protein  \\\n",
       "0              0  R-HSA-5578775                  Ion homeostasis  Q96D31   \n",
       "1              1  R-HSA-5578775                  Ion homeostasis  Q14643   \n",
       "2              2  R-HSA-5578775                  Ion homeostasis  Q92736   \n",
       "3              3  R-HSA-5578775                  Ion homeostasis  Q13586   \n",
       "4              4  R-HSA-5578775                  Ion homeostasis  P30626   \n",
       "...          ...            ...                              ...     ...   \n",
       "1424        1424    R-HSA-74160  Gene expression (Transcription)  P0DP23   \n",
       "1425        1425    R-HSA-74160  Gene expression (Transcription)  O00141   \n",
       "1426        1426    R-HSA-74160  Gene expression (Transcription)  Q13557   \n",
       "1427        1427    R-HSA-74160  Gene expression (Transcription)  Q03135   \n",
       "1428        1428    R-HSA-74160  Gene expression (Transcription)  P62258   \n",
       "\n",
       "         Relation  \n",
       "0     INVOLVED_IN  \n",
       "1     INVOLVED_IN  \n",
       "2     INVOLVED_IN  \n",
       "3     INVOLVED_IN  \n",
       "4     INVOLVED_IN  \n",
       "...           ...  \n",
       "1424  INVOLVED_IN  \n",
       "1425  INVOLVED_IN  \n",
       "1426  INVOLVED_IN  \n",
       "1427  INVOLVED_IN  \n",
       "1428  INVOLVED_IN  \n",
       "\n",
       "[1429 rows x 5 columns]"
      ]
     },
     "execution_count": 88,
     "metadata": {},
     "output_type": "execute_result"
    }
   ],
   "source": [
    "df6 = pd.read_csv(\"data/pw2protein-edge.csv\")\n",
    "df6"
   ]
  },
  {
   "cell_type": "code",
   "execution_count": 93,
   "metadata": {},
   "outputs": [],
   "source": [
    "def create_pathway_nodes(tx, pwid, name):\n",
    "    query = \"MERGE (pw:Pathway{id:$pwid,name:$name})\"\n",
    "    tx.run(query, pwid=pwid, name=name)"
   ]
  },
  {
   "cell_type": "code",
   "execution_count": 94,
   "metadata": {},
   "outputs": [
    {
     "name": "stdout",
     "output_type": "stream",
     "text": [
      "Length of Data:  1429 iterations\n"
     ]
    },
    {
     "name": "stderr",
     "output_type": "stream",
     "text": [
      "Importing Pathways: 1429it [00:08, 160.69it/s]"
     ]
    },
    {
     "name": "stdout",
     "output_type": "stream",
     "text": [
      "Success\n"
     ]
    },
    {
     "name": "stderr",
     "output_type": "stream",
     "text": [
      "\n"
     ]
    }
   ],
   "source": [
    "print(\"Length of Data: \", len(df6), \"iterations\", flush = True)\n",
    "with driver.session() as session:\n",
    "    for pwid,name in tqdm(zip(df6[\"ID\"],df6[\"Pathway\"]), \"Importing Pathways\"):\n",
    "        session.write_transaction(create_pathway_nodes, pwid, name)\n",
    "    \n",
    "print(\"Success\")"
   ]
  },
  {
   "cell_type": "code",
   "execution_count": 95,
   "metadata": {},
   "outputs": [],
   "source": [
    "def create_pw2p_edge(tx, pwid, uid):\n",
    "    query = '''\n",
    "    MATCH (pw:Pathway{id:$pwid})\n",
    "    MATCH (p:Protein{id:$uid})\n",
    "    MERGE (pw)-[:CANDIDATE]->(p)\n",
    "    '''\n",
    "    tx.run(query, pwid=pwid, uid=uid)"
   ]
  },
  {
   "cell_type": "code",
   "execution_count": 96,
   "metadata": {},
   "outputs": [
    {
     "name": "stdout",
     "output_type": "stream",
     "text": [
      "Length of Data:  1429 iterations\n"
     ]
    },
    {
     "name": "stderr",
     "output_type": "stream",
     "text": [
      "Creating Relationships: 1429it [00:13, 104.68it/s]"
     ]
    },
    {
     "name": "stdout",
     "output_type": "stream",
     "text": [
      "Success\n"
     ]
    },
    {
     "name": "stderr",
     "output_type": "stream",
     "text": [
      "\n"
     ]
    }
   ],
   "source": [
    "print(\"Length of Data: \", len(df6), \"iterations\", flush = True)\n",
    "with driver.session() as session:\n",
    "    for pwid, uid in tqdm(zip(df6[\"ID\"], df6[\"Protein\"]), desc = \"Creating Relationships\"):\n",
    "        session.write_transaction(create_pw2p_edge, pwid, uid)\n",
    "\n",
    "print(\"Success\")"
   ]
  }
 ],
 "metadata": {
  "interpreter": {
   "hash": "da9952b49cbe8d96f4cd94137675a40eefb933987d5b5eb67fec8d17888ef93b"
  },
  "kernelspec": {
   "display_name": "Python 3.8.3 ('base')",
   "language": "python",
   "name": "python3"
  },
  "language_info": {
   "codemirror_mode": {
    "name": "ipython",
    "version": 3
   },
   "file_extension": ".py",
   "mimetype": "text/x-python",
   "name": "python",
   "nbconvert_exporter": "python",
   "pygments_lexer": "ipython3",
   "version": "3.8.3"
  },
  "orig_nbformat": 4
 },
 "nbformat": 4,
 "nbformat_minor": 2
}
